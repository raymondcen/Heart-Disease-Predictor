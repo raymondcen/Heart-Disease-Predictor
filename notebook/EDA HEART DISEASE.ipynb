{
 "cells": [
  {
   "cell_type": "markdown",
   "id": "281de786-2e62-471c-8817-c62ffc8158e3",
   "metadata": {},
   "source": [
    "# Heart Disease Predictor\n",
    "\n",
    "### Life cycle of Machine earning project\n",
    "- Understand Problem Statement\n",
    "- Data Collection\n",
    "- Data Checks to perform\n",
    "- Exploratory data analysis\n",
    "- Data Pre-processing\n",
    "- Model Training\n",
    "- Choose best model\n",
    "- Tune model\n",
    "\n",
    "## 1) Problem statement\n",
    "- This project understandss how heart disease is affected by variables such as sex, health, physical activity, sleep, mental health, physical health, what state they live in and many more.\n",
    "## 2) Data Collection\n",
    "- Dataset Source: [Click Here]\n",
    "- The data I will be using is from 2022 containing 40 columns and 445,132 rows."
   ]
  },
  {
   "cell_type": "markdown",
   "id": "41e94eb6-de09-4e77-b0e2-776be57fd690",
   "metadata": {},
   "source": [
    "## 2.1 Import Data and Required packages"
   ]
  },
  {
   "cell_type": "code",
   "execution_count": 38,
   "id": "1f2a6e0a-3c2d-4f38-9dd0-b433e6242498",
   "metadata": {},
   "outputs": [],
   "source": [
    "import numpy as np\n",
    "import pandas as pd\n",
    "import seaborn as sns\n",
    "import matplotlib as plt\n",
    "%matplotlib inline\n",
    "import warnings\n",
    "warnings.filterwarnings('ignore')"
   ]
  },
  {
   "cell_type": "code",
   "execution_count": 39,
   "id": "4284a1e4",
   "metadata": {},
   "outputs": [
    {
     "name": "stdout",
     "output_type": "stream",
     "text": [
      "(445132, 40)\n"
     ]
    },
    {
     "data": {
      "text/html": [
       "<div>\n",
       "<style scoped>\n",
       "    .dataframe tbody tr th:only-of-type {\n",
       "        vertical-align: middle;\n",
       "    }\n",
       "\n",
       "    .dataframe tbody tr th {\n",
       "        vertical-align: top;\n",
       "    }\n",
       "\n",
       "    .dataframe thead th {\n",
       "        text-align: right;\n",
       "    }\n",
       "</style>\n",
       "<table border=\"1\" class=\"dataframe\">\n",
       "  <thead>\n",
       "    <tr style=\"text-align: right;\">\n",
       "      <th></th>\n",
       "      <th>State</th>\n",
       "      <th>Sex</th>\n",
       "      <th>GeneralHealth</th>\n",
       "      <th>PhysicalHealthDays</th>\n",
       "      <th>MentalHealthDays</th>\n",
       "      <th>LastCheckupTime</th>\n",
       "      <th>PhysicalActivities</th>\n",
       "      <th>SleepHours</th>\n",
       "      <th>RemovedTeeth</th>\n",
       "      <th>HadHeartAttack</th>\n",
       "      <th>...</th>\n",
       "      <th>HeightInMeters</th>\n",
       "      <th>WeightInKilograms</th>\n",
       "      <th>BMI</th>\n",
       "      <th>AlcoholDrinkers</th>\n",
       "      <th>HIVTesting</th>\n",
       "      <th>FluVaxLast12</th>\n",
       "      <th>PneumoVaxEver</th>\n",
       "      <th>TetanusLast10Tdap</th>\n",
       "      <th>HighRiskLastYear</th>\n",
       "      <th>CovidPos</th>\n",
       "    </tr>\n",
       "  </thead>\n",
       "  <tbody>\n",
       "    <tr>\n",
       "      <th>0</th>\n",
       "      <td>Alabama</td>\n",
       "      <td>Female</td>\n",
       "      <td>Very good</td>\n",
       "      <td>0.0</td>\n",
       "      <td>0.0</td>\n",
       "      <td>Within past year (anytime less than 12 months ...</td>\n",
       "      <td>No</td>\n",
       "      <td>8.0</td>\n",
       "      <td>NaN</td>\n",
       "      <td>No</td>\n",
       "      <td>...</td>\n",
       "      <td>NaN</td>\n",
       "      <td>NaN</td>\n",
       "      <td>NaN</td>\n",
       "      <td>No</td>\n",
       "      <td>No</td>\n",
       "      <td>Yes</td>\n",
       "      <td>No</td>\n",
       "      <td>Yes, received tetanus shot but not sure what type</td>\n",
       "      <td>No</td>\n",
       "      <td>No</td>\n",
       "    </tr>\n",
       "    <tr>\n",
       "      <th>1</th>\n",
       "      <td>Alabama</td>\n",
       "      <td>Female</td>\n",
       "      <td>Excellent</td>\n",
       "      <td>0.0</td>\n",
       "      <td>0.0</td>\n",
       "      <td>NaN</td>\n",
       "      <td>No</td>\n",
       "      <td>6.0</td>\n",
       "      <td>NaN</td>\n",
       "      <td>No</td>\n",
       "      <td>...</td>\n",
       "      <td>1.60</td>\n",
       "      <td>68.04</td>\n",
       "      <td>26.57</td>\n",
       "      <td>No</td>\n",
       "      <td>No</td>\n",
       "      <td>No</td>\n",
       "      <td>No</td>\n",
       "      <td>No, did not receive any tetanus shot in the pa...</td>\n",
       "      <td>No</td>\n",
       "      <td>No</td>\n",
       "    </tr>\n",
       "    <tr>\n",
       "      <th>2</th>\n",
       "      <td>Alabama</td>\n",
       "      <td>Female</td>\n",
       "      <td>Very good</td>\n",
       "      <td>2.0</td>\n",
       "      <td>3.0</td>\n",
       "      <td>Within past year (anytime less than 12 months ...</td>\n",
       "      <td>Yes</td>\n",
       "      <td>5.0</td>\n",
       "      <td>NaN</td>\n",
       "      <td>No</td>\n",
       "      <td>...</td>\n",
       "      <td>1.57</td>\n",
       "      <td>63.50</td>\n",
       "      <td>25.61</td>\n",
       "      <td>No</td>\n",
       "      <td>No</td>\n",
       "      <td>No</td>\n",
       "      <td>No</td>\n",
       "      <td>NaN</td>\n",
       "      <td>No</td>\n",
       "      <td>Yes</td>\n",
       "    </tr>\n",
       "    <tr>\n",
       "      <th>3</th>\n",
       "      <td>Alabama</td>\n",
       "      <td>Female</td>\n",
       "      <td>Excellent</td>\n",
       "      <td>0.0</td>\n",
       "      <td>0.0</td>\n",
       "      <td>Within past year (anytime less than 12 months ...</td>\n",
       "      <td>Yes</td>\n",
       "      <td>7.0</td>\n",
       "      <td>NaN</td>\n",
       "      <td>No</td>\n",
       "      <td>...</td>\n",
       "      <td>1.65</td>\n",
       "      <td>63.50</td>\n",
       "      <td>23.30</td>\n",
       "      <td>No</td>\n",
       "      <td>No</td>\n",
       "      <td>Yes</td>\n",
       "      <td>Yes</td>\n",
       "      <td>No, did not receive any tetanus shot in the pa...</td>\n",
       "      <td>No</td>\n",
       "      <td>No</td>\n",
       "    </tr>\n",
       "    <tr>\n",
       "      <th>4</th>\n",
       "      <td>Alabama</td>\n",
       "      <td>Female</td>\n",
       "      <td>Fair</td>\n",
       "      <td>2.0</td>\n",
       "      <td>0.0</td>\n",
       "      <td>Within past year (anytime less than 12 months ...</td>\n",
       "      <td>Yes</td>\n",
       "      <td>9.0</td>\n",
       "      <td>NaN</td>\n",
       "      <td>No</td>\n",
       "      <td>...</td>\n",
       "      <td>1.57</td>\n",
       "      <td>53.98</td>\n",
       "      <td>21.77</td>\n",
       "      <td>Yes</td>\n",
       "      <td>No</td>\n",
       "      <td>No</td>\n",
       "      <td>Yes</td>\n",
       "      <td>No, did not receive any tetanus shot in the pa...</td>\n",
       "      <td>No</td>\n",
       "      <td>No</td>\n",
       "    </tr>\n",
       "  </tbody>\n",
       "</table>\n",
       "<p>5 rows × 40 columns</p>\n",
       "</div>"
      ],
      "text/plain": [
       "     State     Sex GeneralHealth  PhysicalHealthDays  MentalHealthDays  \\\n",
       "0  Alabama  Female     Very good                 0.0               0.0   \n",
       "1  Alabama  Female     Excellent                 0.0               0.0   \n",
       "2  Alabama  Female     Very good                 2.0               3.0   \n",
       "3  Alabama  Female     Excellent                 0.0               0.0   \n",
       "4  Alabama  Female          Fair                 2.0               0.0   \n",
       "\n",
       "                                     LastCheckupTime PhysicalActivities  \\\n",
       "0  Within past year (anytime less than 12 months ...                 No   \n",
       "1                                                NaN                 No   \n",
       "2  Within past year (anytime less than 12 months ...                Yes   \n",
       "3  Within past year (anytime less than 12 months ...                Yes   \n",
       "4  Within past year (anytime less than 12 months ...                Yes   \n",
       "\n",
       "   SleepHours RemovedTeeth HadHeartAttack  ... HeightInMeters  \\\n",
       "0         8.0          NaN             No  ...            NaN   \n",
       "1         6.0          NaN             No  ...           1.60   \n",
       "2         5.0          NaN             No  ...           1.57   \n",
       "3         7.0          NaN             No  ...           1.65   \n",
       "4         9.0          NaN             No  ...           1.57   \n",
       "\n",
       "  WeightInKilograms    BMI AlcoholDrinkers HIVTesting FluVaxLast12  \\\n",
       "0               NaN    NaN              No         No          Yes   \n",
       "1             68.04  26.57              No         No           No   \n",
       "2             63.50  25.61              No         No           No   \n",
       "3             63.50  23.30              No         No          Yes   \n",
       "4             53.98  21.77             Yes         No           No   \n",
       "\n",
       "  PneumoVaxEver                                  TetanusLast10Tdap  \\\n",
       "0            No  Yes, received tetanus shot but not sure what type   \n",
       "1            No  No, did not receive any tetanus shot in the pa...   \n",
       "2            No                                                NaN   \n",
       "3           Yes  No, did not receive any tetanus shot in the pa...   \n",
       "4           Yes  No, did not receive any tetanus shot in the pa...   \n",
       "\n",
       "  HighRiskLastYear CovidPos  \n",
       "0               No       No  \n",
       "1               No       No  \n",
       "2               No      Yes  \n",
       "3               No       No  \n",
       "4               No       No  \n",
       "\n",
       "[5 rows x 40 columns]"
      ]
     },
     "execution_count": 39,
     "metadata": {},
     "output_type": "execute_result"
    }
   ],
   "source": [
    "df = pd.read_csv('data/heart_2022_with_nans.csv')\n",
    "print(df.shape)\n",
    "df.head()"
   ]
  },
  {
   "cell_type": "markdown",
   "id": "41f6303a",
   "metadata": {},
   "source": [
    "## 3 Data Checks to perform\n",
    "- Check missing values\n",
    "- Check for duplicates\n",
    "- Check number of unique values in each column\n",
    "- Check data types\n",
    "- Check statistics of dataset\n",
    "- Check various categories present in the different categrical column"
   ]
  },
  {
   "cell_type": "markdown",
   "id": "0dd19ae7",
   "metadata": {},
   "source": [
    "## 3.1 Check msising values"
   ]
  },
  {
   "cell_type": "code",
   "execution_count": 40,
   "id": "e4da17f3",
   "metadata": {},
   "outputs": [
    {
     "name": "stdout",
     "output_type": "stream",
     "text": [
      "State: 0.0\n",
      "Sex: 0.0\n",
      "GeneralHealth: 0.27\n",
      "PhysicalHealthDays: 2.45\n",
      "MentalHealthDays: 2.04\n",
      "LastCheckupTime: 1.87\n",
      "PhysicalActivities: 0.25\n",
      "SleepHours: 1.23\n",
      "RemovedTeeth: 2.55\n",
      "HadHeartAttack: 0.69\n",
      "HadAngina: 0.99\n",
      "HadStroke: 0.35\n",
      "HadAsthma: 0.4\n",
      "HadSkinCancer: 0.71\n",
      "HadCOPD: 0.5\n",
      "HadDepressiveDisorder: 0.63\n",
      "HadKidneyDisease: 0.43\n",
      "HadArthritis: 0.59\n",
      "HadDiabetes: 0.24\n",
      "DeafOrHardOfHearing: 4.64\n",
      "BlindOrVisionDifficulty: 4.84\n",
      "DifficultyConcentrating: 5.45\n",
      "DifficultyWalking: 5.39\n",
      "DifficultyDressingBathing: 5.37\n",
      "DifficultyErrands: 5.76\n",
      "SmokerStatus: 7.97\n",
      "ECigaretteUsage: 8.01\n",
      "ChestScan: 12.59\n",
      "RaceEthnicityCategory: 3.16\n",
      "AgeCategory: 2.04\n",
      "HeightInMeters: 6.44\n",
      "WeightInKilograms: 9.45\n",
      "BMI: 10.96\n",
      "AlcoholDrinkers: 10.46\n",
      "HIVTesting: 14.86\n",
      "FluVaxLast12: 10.59\n",
      "PneumoVaxEver: 17.31\n",
      "TetanusLast10Tdap: 18.54\n",
      "HighRiskLastYear: 11.37\n",
      "CovidPos: 11.4\n"
     ]
    }
   ],
   "source": [
    "for column in df.columns:\n",
    "    percentage = df[column].isnull().mean()\n",
    "    print(column + \": \" + str(round(percentage*100,2)))"
   ]
  },
  {
   "cell_type": "code",
   "execution_count": 41,
   "id": "f0567993",
   "metadata": {},
   "outputs": [],
   "source": [
    "#drop NaNs\n",
    "df = df.dropna()"
   ]
  },
  {
   "cell_type": "code",
   "execution_count": 42,
   "id": "33a0796d",
   "metadata": {},
   "outputs": [
    {
     "data": {
      "text/plain": [
       "(246022, 40)"
      ]
     },
     "execution_count": 42,
     "metadata": {},
     "output_type": "execute_result"
    }
   ],
   "source": [
    "df.shape"
   ]
  },
  {
   "cell_type": "markdown",
   "id": "c90f1b60",
   "metadata": {},
   "source": [
    "## 3.2 Check Duplicates"
   ]
  },
  {
   "cell_type": "code",
   "execution_count": 43,
   "id": "aae477f9",
   "metadata": {},
   "outputs": [
    {
     "data": {
      "text/plain": [
       "np.int64(9)"
      ]
     },
     "execution_count": 43,
     "metadata": {},
     "output_type": "execute_result"
    }
   ],
   "source": [
    "df.duplicated().sum()"
   ]
  },
  {
   "cell_type": "code",
   "execution_count": 44,
   "id": "7a1b171c",
   "metadata": {},
   "outputs": [
    {
     "data": {
      "text/plain": [
       "np.int64(0)"
      ]
     },
     "execution_count": 44,
     "metadata": {},
     "output_type": "execute_result"
    }
   ],
   "source": [
    "# drop duplicates\n",
    "df.drop_duplicates(inplace=True)\n",
    "df.duplicated().sum()"
   ]
  },
  {
   "cell_type": "code",
   "execution_count": 45,
   "id": "1d20a5b2",
   "metadata": {},
   "outputs": [
    {
     "data": {
      "text/plain": [
       "(246013, 40)"
      ]
     },
     "execution_count": 45,
     "metadata": {},
     "output_type": "execute_result"
    }
   ],
   "source": [
    "df.shape"
   ]
  },
  {
   "cell_type": "markdown",
   "id": "2980afcb",
   "metadata": {},
   "source": [
    "## 3.3 Check number of unique values of each column"
   ]
  },
  {
   "cell_type": "code",
   "execution_count": 46,
   "id": "bf422e54",
   "metadata": {},
   "outputs": [
    {
     "name": "stdout",
     "output_type": "stream",
     "text": [
      "['Alabama' 'Alaska' 'Arizona' 'Arkansas' 'California' 'Colorado'\n",
      " 'Connecticut' 'Delaware' 'District of Columbia' 'Florida' 'Georgia'\n",
      " 'Hawaii' 'Idaho' 'Illinois' 'Indiana' 'Iowa' 'Kansas' 'Kentucky'\n",
      " 'Louisiana' 'Maine' 'Maryland' 'Massachusetts' 'Michigan' 'Minnesota'\n",
      " 'Mississippi' 'Missouri' 'Montana' 'Nebraska' 'Nevada' 'New Hampshire'\n",
      " 'New Jersey' 'New Mexico' 'New York' 'North Carolina' 'North Dakota'\n",
      " 'Ohio' 'Oklahoma' 'Oregon' 'Pennsylvania' 'Rhode Island' 'South Carolina'\n",
      " 'South Dakota' 'Tennessee' 'Texas' 'Utah' 'Vermont' 'Virginia'\n",
      " 'Washington' 'West Virginia' 'Wisconsin' 'Wyoming' 'Guam' 'Puerto Rico'\n",
      " 'Virgin Islands']\n"
     ]
    },
    {
     "data": {
      "text/plain": [
       "State                          54\n",
       "Sex                             2\n",
       "GeneralHealth                   5\n",
       "PhysicalHealthDays             31\n",
       "MentalHealthDays               31\n",
       "LastCheckupTime                 4\n",
       "PhysicalActivities              2\n",
       "SleepHours                     23\n",
       "RemovedTeeth                    4\n",
       "HadHeartAttack                  2\n",
       "HadAngina                       2\n",
       "HadStroke                       2\n",
       "HadAsthma                       2\n",
       "HadSkinCancer                   2\n",
       "HadCOPD                         2\n",
       "HadDepressiveDisorder           2\n",
       "HadKidneyDisease                2\n",
       "HadArthritis                    2\n",
       "HadDiabetes                     4\n",
       "DeafOrHardOfHearing             2\n",
       "BlindOrVisionDifficulty         2\n",
       "DifficultyConcentrating         2\n",
       "DifficultyWalking               2\n",
       "DifficultyDressingBathing       2\n",
       "DifficultyErrands               2\n",
       "SmokerStatus                    4\n",
       "ECigaretteUsage                 4\n",
       "ChestScan                       2\n",
       "RaceEthnicityCategory           5\n",
       "AgeCategory                    13\n",
       "HeightInMeters                101\n",
       "WeightInKilograms             516\n",
       "BMI                          3514\n",
       "AlcoholDrinkers                 2\n",
       "HIVTesting                      2\n",
       "FluVaxLast12                    2\n",
       "PneumoVaxEver                   2\n",
       "TetanusLast10Tdap               4\n",
       "HighRiskLastYear                2\n",
       "CovidPos                        3\n",
       "dtype: int64"
      ]
     },
     "execution_count": 46,
     "metadata": {},
     "output_type": "execute_result"
    }
   ],
   "source": [
    "column = 'State'\n",
    "\n",
    "# Print the unique values\n",
    "print(df[column].unique())\n",
    "\n",
    "df.nunique()\n"
   ]
  },
  {
   "cell_type": "markdown",
   "id": "ed420bce",
   "metadata": {},
   "source": [
    "## 3.4 Check data types"
   ]
  },
  {
   "cell_type": "code",
   "execution_count": 47,
   "id": "dad9c41f",
   "metadata": {},
   "outputs": [
    {
     "data": {
      "text/plain": [
       "State                         object\n",
       "Sex                           object\n",
       "GeneralHealth                 object\n",
       "PhysicalHealthDays           float64\n",
       "MentalHealthDays             float64\n",
       "LastCheckupTime               object\n",
       "PhysicalActivities            object\n",
       "SleepHours                   float64\n",
       "RemovedTeeth                  object\n",
       "HadHeartAttack                object\n",
       "HadAngina                     object\n",
       "HadStroke                     object\n",
       "HadAsthma                     object\n",
       "HadSkinCancer                 object\n",
       "HadCOPD                       object\n",
       "HadDepressiveDisorder         object\n",
       "HadKidneyDisease              object\n",
       "HadArthritis                  object\n",
       "HadDiabetes                   object\n",
       "DeafOrHardOfHearing           object\n",
       "BlindOrVisionDifficulty       object\n",
       "DifficultyConcentrating       object\n",
       "DifficultyWalking             object\n",
       "DifficultyDressingBathing     object\n",
       "DifficultyErrands             object\n",
       "SmokerStatus                  object\n",
       "ECigaretteUsage               object\n",
       "ChestScan                     object\n",
       "RaceEthnicityCategory         object\n",
       "AgeCategory                   object\n",
       "HeightInMeters               float64\n",
       "WeightInKilograms            float64\n",
       "BMI                          float64\n",
       "AlcoholDrinkers               object\n",
       "HIVTesting                    object\n",
       "FluVaxLast12                  object\n",
       "PneumoVaxEver                 object\n",
       "TetanusLast10Tdap             object\n",
       "HighRiskLastYear              object\n",
       "CovidPos                      object\n",
       "dtype: object"
      ]
     },
     "execution_count": 47,
     "metadata": {},
     "output_type": "execute_result"
    }
   ],
   "source": [
    "df.dtypes"
   ]
  },
  {
   "cell_type": "markdown",
   "id": "5e7faa7e",
   "metadata": {},
   "source": [
    "## 3.5 Check statistics of dataset"
   ]
  },
  {
   "cell_type": "code",
   "execution_count": 48,
   "id": "09ceef9f",
   "metadata": {},
   "outputs": [
    {
     "data": {
      "text/html": [
       "<div>\n",
       "<style scoped>\n",
       "    .dataframe tbody tr th:only-of-type {\n",
       "        vertical-align: middle;\n",
       "    }\n",
       "\n",
       "    .dataframe tbody tr th {\n",
       "        vertical-align: top;\n",
       "    }\n",
       "\n",
       "    .dataframe thead th {\n",
       "        text-align: right;\n",
       "    }\n",
       "</style>\n",
       "<table border=\"1\" class=\"dataframe\">\n",
       "  <thead>\n",
       "    <tr style=\"text-align: right;\">\n",
       "      <th></th>\n",
       "      <th>PhysicalHealthDays</th>\n",
       "      <th>MentalHealthDays</th>\n",
       "      <th>SleepHours</th>\n",
       "      <th>HeightInMeters</th>\n",
       "      <th>WeightInKilograms</th>\n",
       "      <th>BMI</th>\n",
       "    </tr>\n",
       "  </thead>\n",
       "  <tbody>\n",
       "    <tr>\n",
       "      <th>count</th>\n",
       "      <td>246013.000000</td>\n",
       "      <td>246013.000000</td>\n",
       "      <td>246013.000000</td>\n",
       "      <td>246013.000000</td>\n",
       "      <td>246013.000000</td>\n",
       "      <td>246013.000000</td>\n",
       "    </tr>\n",
       "    <tr>\n",
       "      <th>mean</th>\n",
       "      <td>4.119055</td>\n",
       "      <td>4.167292</td>\n",
       "      <td>7.021312</td>\n",
       "      <td>1.705150</td>\n",
       "      <td>83.615522</td>\n",
       "      <td>28.668258</td>\n",
       "    </tr>\n",
       "    <tr>\n",
       "      <th>std</th>\n",
       "      <td>8.405803</td>\n",
       "      <td>8.102796</td>\n",
       "      <td>1.440698</td>\n",
       "      <td>0.106654</td>\n",
       "      <td>21.323232</td>\n",
       "      <td>6.514005</td>\n",
       "    </tr>\n",
       "    <tr>\n",
       "      <th>min</th>\n",
       "      <td>0.000000</td>\n",
       "      <td>0.000000</td>\n",
       "      <td>1.000000</td>\n",
       "      <td>0.910000</td>\n",
       "      <td>28.120000</td>\n",
       "      <td>12.020000</td>\n",
       "    </tr>\n",
       "    <tr>\n",
       "      <th>25%</th>\n",
       "      <td>0.000000</td>\n",
       "      <td>0.000000</td>\n",
       "      <td>6.000000</td>\n",
       "      <td>1.630000</td>\n",
       "      <td>68.040000</td>\n",
       "      <td>24.270000</td>\n",
       "    </tr>\n",
       "    <tr>\n",
       "      <th>50%</th>\n",
       "      <td>0.000000</td>\n",
       "      <td>0.000000</td>\n",
       "      <td>7.000000</td>\n",
       "      <td>1.700000</td>\n",
       "      <td>81.650000</td>\n",
       "      <td>27.460000</td>\n",
       "    </tr>\n",
       "    <tr>\n",
       "      <th>75%</th>\n",
       "      <td>3.000000</td>\n",
       "      <td>4.000000</td>\n",
       "      <td>8.000000</td>\n",
       "      <td>1.780000</td>\n",
       "      <td>95.250000</td>\n",
       "      <td>31.890000</td>\n",
       "    </tr>\n",
       "    <tr>\n",
       "      <th>max</th>\n",
       "      <td>30.000000</td>\n",
       "      <td>30.000000</td>\n",
       "      <td>24.000000</td>\n",
       "      <td>2.410000</td>\n",
       "      <td>292.570000</td>\n",
       "      <td>97.650000</td>\n",
       "    </tr>\n",
       "  </tbody>\n",
       "</table>\n",
       "</div>"
      ],
      "text/plain": [
       "       PhysicalHealthDays  MentalHealthDays     SleepHours  HeightInMeters  \\\n",
       "count       246013.000000     246013.000000  246013.000000   246013.000000   \n",
       "mean             4.119055          4.167292       7.021312        1.705150   \n",
       "std              8.405803          8.102796       1.440698        0.106654   \n",
       "min              0.000000          0.000000       1.000000        0.910000   \n",
       "25%              0.000000          0.000000       6.000000        1.630000   \n",
       "50%              0.000000          0.000000       7.000000        1.700000   \n",
       "75%              3.000000          4.000000       8.000000        1.780000   \n",
       "max             30.000000         30.000000      24.000000        2.410000   \n",
       "\n",
       "       WeightInKilograms            BMI  \n",
       "count      246013.000000  246013.000000  \n",
       "mean           83.615522      28.668258  \n",
       "std            21.323232       6.514005  \n",
       "min            28.120000      12.020000  \n",
       "25%            68.040000      24.270000  \n",
       "50%            81.650000      27.460000  \n",
       "75%            95.250000      31.890000  \n",
       "max           292.570000      97.650000  "
      ]
     },
     "execution_count": 48,
     "metadata": {},
     "output_type": "execute_result"
    }
   ],
   "source": [
    "df.describe()"
   ]
  },
  {
   "cell_type": "markdown",
   "id": "c4e0c3d6",
   "metadata": {},
   "source": [
    "## 3.6 Define numerical and categorical columns"
   ]
  },
  {
   "cell_type": "code",
   "execution_count": 50,
   "id": "838e8b76",
   "metadata": {},
   "outputs": [
    {
     "name": "stdout",
     "output_type": "stream",
     "text": [
      "We have 6 numerical columns : ['PhysicalHealthDays', 'MentalHealthDays', 'SleepHours', 'HeightInMeters', 'WeightInKilograms', 'BMI']\n",
      "We have 34 categorical columns : ['State', 'Sex', 'GeneralHealth', 'LastCheckupTime', 'PhysicalActivities', 'RemovedTeeth', 'HadHeartAttack', 'HadAngina', 'HadStroke', 'HadAsthma', 'HadSkinCancer', 'HadCOPD', 'HadDepressiveDisorder', 'HadKidneyDisease', 'HadArthritis', 'HadDiabetes', 'DeafOrHardOfHearing', 'BlindOrVisionDifficulty', 'DifficultyConcentrating', 'DifficultyWalking', 'DifficultyDressingBathing', 'DifficultyErrands', 'SmokerStatus', 'ECigaretteUsage', 'ChestScan', 'RaceEthnicityCategory', 'AgeCategory', 'AlcoholDrinkers', 'HIVTesting', 'FluVaxLast12', 'PneumoVaxEver', 'TetanusLast10Tdap', 'HighRiskLastYear', 'CovidPos']\n"
     ]
    }
   ],
   "source": [
    "numerical_col = [col for col in df.columns if df[col].dtype != 'O']\n",
    "categorical_col = [col for col in df.columns if df[col].dtype == 'O']\n",
    "\n",
    "#print columns\n",
    "print('We have {} numerical columns : {}'.format(len(numerical_col), numerical_col))\n",
    "print('We have {} categorical columns : {}'.format(len(categorical_col), categorical_col))"
   ]
  },
  {
   "cell_type": "markdown",
   "id": "34e1ac95",
   "metadata": {},
   "source": [
    "## 4 Exploring Data Visualization"
   ]
  },
  {
   "cell_type": "markdown",
   "id": "0a18ad43",
   "metadata": {},
   "source": []
  }
 ],
 "metadata": {
  "kernelspec": {
   "display_name": "Python 3",
   "language": "python",
   "name": "python3"
  },
  "language_info": {
   "codemirror_mode": {
    "name": "ipython",
    "version": 3
   },
   "file_extension": ".py",
   "mimetype": "text/x-python",
   "name": "python",
   "nbconvert_exporter": "python",
   "pygments_lexer": "ipython3",
   "version": "3.12.0"
  }
 },
 "nbformat": 4,
 "nbformat_minor": 5
}
